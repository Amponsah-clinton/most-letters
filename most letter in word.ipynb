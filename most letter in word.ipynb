{
 "cells": [
  {
   "cell_type": "code",
   "execution_count": null,
   "id": "b46fd078-ea6f-4c73-b651-aae5d858615b",
   "metadata": {},
   "outputs": [],
   "source": [
    "name = input(\"enter a word(s): \")\n",
    "sets={}\n",
    "for i in name:\n",
    "    if i in sets:\n",
    "        sets[i]+=1\n",
    "    else:\n",
    "        sets[i]=1\n",
    "result= max(sets, key=sets.get)\n",
    "print(f\"The maximum letter in the text is {result}\")\n",
    "\n",
    "# using Counter from collections\n",
    "from collections import Counter\n",
    "counter=Counter(name)\n",
    "freq = counter.most_common(1)[0]\n",
    "print(freq)\n",
    "\n",
    "# using mode from _statistics\n",
    "from statistics import mode\n",
    "name =\"clinton\"\n",
    "x = mode(name)\n",
    "print(x)"
   ]
  }
 ],
 "metadata": {
  "kernelspec": {
   "display_name": "Python 3 (ipykernel)",
   "language": "python",
   "name": "python3"
  },
  "language_info": {
   "name": ""
  }
 },
 "nbformat": 4,
 "nbformat_minor": 5
}
